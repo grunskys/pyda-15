{
 "cells": [
  {
   "cell_type": "code",
   "execution_count": 10,
   "metadata": {},
   "outputs": [
    {
     "name": "stdout",
     "output_type": "stream",
     "text": [
      "number_1, =max\n"
     ]
    }
   ],
   "source": [
    "number_1 =5\n",
    "number_2 = 4\n",
    "number_3 = 3\n",
    "if number_1 > number_2:\n",
    "    print('number_1, =max')\n",
    "elif number_2 > number_3:\n",
    "    print('number_2, =max')\n",
    "else: print('number_3, =max')"
   ]
  },
  {
   "cell_type": "code",
   "execution_count": 12,
   "metadata": {},
   "outputs": [
    {
     "data": {
      "text/plain": [
       "32"
      ]
     },
     "execution_count": 12,
     "metadata": {},
     "output_type": "execute_result"
    }
   ],
   "source": [
    "data = [ [13, 25, 23, 34], \n",
    "         [45, 32, 44, 47],\n",
    "         [12, 33, 23, 95],\n",
    "         [13, 53, 34, 35]]\n",
    "a = data[1][1]\n",
    "a\n"
   ]
  }
 ],
 "metadata": {
  "kernelspec": {
   "display_name": "Python 3",
   "language": "python",
   "name": "python3"
  },
  "language_info": {
   "codemirror_mode": {
    "name": "ipython",
    "version": 3
   },
   "file_extension": ".py",
   "mimetype": "text/x-python",
   "name": "python",
   "nbconvert_exporter": "python",
   "pygments_lexer": "ipython3",
   "version": "3.8.3"
  }
 },
 "nbformat": 4,
 "nbformat_minor": 4
}
