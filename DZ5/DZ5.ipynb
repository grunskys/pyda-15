{
 "cells": [
  {
   "cell_type": "code",
   "execution_count": 1,
   "metadata": {},
   "outputs": [],
   "source": [
    "# Часть 1. Переведите содержимое файла purchase_log.txt в словарь purchases вида: {'1840e0b9d4': 'Продукты', ...}\n",
    "\n",
    "import json\n",
    "\n",
    "with open('purchase_log.txt', 'r', encoding='utf-8') as f:\n",
    "    purchases = {}\n",
    "    for i, line in enumerate(f):\n",
    "        line = line.strip()\n",
    "        dict_ = json.loads(line)\n",
    "        for key, value in dict_.items():\n",
    "            if key == 'user_id':\n",
    "                a = value\n",
    "            elif key == 'category':\n",
    "                b = value\n",
    "                purchases[a] = b\n",
    "            else:\n",
    "                pass        \n",
    "f.close()"
   ]
  },
  {
   "cell_type": "code",
   "execution_count": 2,
   "metadata": {},
   "outputs": [],
   "source": [
    "# Часть 2. Для каждого user_id в файле visit_log.csv определите третий столбец с категорией покупки (если покупка была, сам файл visit_log.csv изменять не надо). Запишите в файл funnel.csv визиты из файла visit_log.csv, в которых были покупки с указанием категории.\n",
    "\n",
    "with open('visit_log.csv', 'r', encoding='utf-8') as l:\n",
    "    with open('funnel.csv', 'w', encoding='utf-8') as f2write:\n",
    "        for i2, line2 in enumerate(l):\n",
    "            line2 = line2.strip().split(',')\n",
    "            if line2[0] in purchases:\n",
    "                line2write = line2\n",
    "                line2write.append(purchases[line2[0]])\n",
    "                final_string = str(line2write) + '\\n'\n",
    "                f2write.write(final_string)\n",
    "            else:\n",
    "                pass\n",
    "    f2write.close()\n",
    "l.close()"
   ]
  },
  {
   "cell_type": "code",
   "execution_count": 3,
   "metadata": {},
   "outputs": [
    {
     "name": "stdout",
     "output_type": "stream",
     "text": [
      "['user_id', 'source', 'category']\n",
      "['1840e0b9d4', 'other', 'Продукты']\n",
      "['4e4f90fcfb', 'context', 'Электроника']\n",
      "['afea8d72fc', 'other', 'Электроника']\n",
      "['2824221f38', 'email', 'Продукты']\n",
      "['373a6055fe', 'other', 'Бытовая техника']\n",
      "['9b2ab046f3', 'other', 'Электроника']\n",
      "['9f39d307c3', 'context', 'Электроника']\n",
      "['44edeffc91', 'context', 'Продукты']\n",
      "['704474fa2d', 'other', 'Продукты']\n",
      "['1de31be403', 'other', 'Бытовая техника']\n",
      "['5da0dedf13', 'context', 'Досуг']\n",
      "['b71f36a5e4', 'other', 'Продукты']\n",
      "['79843a685a', 'context', 'Продукты']\n",
      "['ff68cee0d6', 'context', 'Бытовая техника']\n",
      "['e8447c40e2', 'email', 'Досуг']\n",
      "['b9ef8fdf47', 'other', 'Продукты']\n",
      "['98d290be27', 'other', 'Электроника']\n",
      "['3fff459bda', 'other', 'Электроника']\n",
      "['fa0079a5a8', 'other', 'Досуг']\n",
      "['fdd6b2fc76', 'context', 'Бытовая техника']\n",
      "['54ecd881a2', 'other', 'Бытовая техника']\n",
      "['22d2f03a17', 'context', 'Досуг']\n",
      "['c9fa1b54d5', 'other', 'Продукты']\n",
      "['3f8e1ccd3f', 'other', 'Электроника']\n",
      "['81a9988b83', 'context', 'Электроника']\n",
      "['65f44a2eb7', 'context', 'Досуг']\n",
      "['6df948569b', 'other', 'Бытовая техника']\n",
      "['5f8fbb0149', 'other', 'Бытовая техника']\n",
      "['3ecff691fd', 'context', 'Электроника']\n",
      "['dd0e912251', 'other', 'Электроника']\n",
      "['9250593d55', 'other', 'Электроника']\n"
     ]
    }
   ],
   "source": [
    "with open('funnel.csv', 'r', encoding='utf-8') as proverka:\n",
    "    for i3, line3 in enumerate(proverka):\n",
    "        line3 = line3.strip()\n",
    "        print(line3)\n",
    "        if i3 > 30:\n",
    "            break"
   ]
  }
 ],
 "metadata": {
  "kernelspec": {
   "display_name": "Python 3",
   "language": "python",
   "name": "python3"
  },
  "language_info": {
   "codemirror_mode": {
    "name": "ipython",
    "version": 3
   },
   "file_extension": ".py",
   "mimetype": "text/x-python",
   "name": "python",
   "nbconvert_exporter": "python",
   "pygments_lexer": "ipython3",
   "version": "3.8.3"
  }
 },
 "nbformat": 4,
 "nbformat_minor": 4
}
