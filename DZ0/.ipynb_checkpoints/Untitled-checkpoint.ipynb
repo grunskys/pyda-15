{
 "cells": [
  {
   "cell_type": "code",
   "execution_count": 15,
   "metadata": {},
   "outputs": [
    {
     "name": "stdout",
     "output_type": "stream",
     "text": [
      "Фраза 1 длинее Фразы 2\n"
     ]
    }
   ],
   "source": [
    "\"\"\"Задание 1\n",
    "Даны 2 переменных, в которых хранятся строки произвольной длины: phrase_1 и phrase_2.\n",
    "Напишите код, который проверяет какая из этих строк длиннее.\"\"\"\n",
    "\n",
    "if len ('Насколько проще было бы писать программы, если бы не заказчики') > len ('640Кб должно хватить для любых задач. Билл Гейтс (по легенде)'):\n",
    "    print ('Фраза 1 длинее Фразы 2')\n",
    "else:\n",
    "    print ('Фраза 2 длинее Фразы 1')"
   ]
  },
  {
   "cell_type": "code",
   "execution_count": 17,
   "metadata": {},
   "outputs": [
    {
     "name": "stdout",
     "output_type": "stream",
     "text": [
      "Фраза 2 длинее Фразы 1\n"
     ]
    }
   ],
   "source": [
    "if len ('640Кб должно хватить для любых задач. Билл Гейтс (по легенде)') > len ('Насколько проще было бы писать программы, если бы не заказчики'):\n",
    "    print ('Фраза 1 длинее Фразы 2')\n",
    "else:\n",
    "    print ('Фраза 2 длинее Фразы 1')"
   ]
  },
  {
   "cell_type": "code",
   "execution_count": 18,
   "metadata": {},
   "outputs": [
    {
     "name": "stdout",
     "output_type": "stream",
     "text": [
      "Фразы равной длины\n"
     ]
    }
   ],
   "source": [
    "if len ('Насколько проще было бы писать программы, если бы не заказчики') > len ('Насколько проще было бы писать программы, если бы не заказчики'):\n",
    "    print ('Фраза 1 длинее Фразы 2')\n",
    "elif len ('Насколько проще было бы писать программы, если бы не заказчики') > len ('Насколько проще было бы писать программы, если бы не заказчики'):\n",
    "    print ('Фраза 2 длинее Фразы 1')\n",
    "else:\n",
    "    print ('Фразы равной длины')"
   ]
  },
  {
   "cell_type": "code",
   "execution_count": null,
   "metadata": {},
   "outputs": [],
   "source": []
  }
 ],
 "metadata": {
  "kernelspec": {
   "display_name": "Python 3",
   "language": "python",
   "name": "python3"
  },
  "language_info": {
   "codemirror_mode": {
    "name": "ipython",
    "version": 3
   },
   "file_extension": ".py",
   "mimetype": "text/x-python",
   "name": "python",
   "nbconvert_exporter": "python",
   "pygments_lexer": "ipython3",
   "version": "3.8.3"
  }
 },
 "nbformat": 4,
 "nbformat_minor": 4
}
