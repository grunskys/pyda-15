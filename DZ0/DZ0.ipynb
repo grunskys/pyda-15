{
 "cells": [
  {
   "cell_type": "code",
   "execution_count": 3,
   "metadata": {},
   "outputs": [
    {
     "name": "stdout",
     "output_type": "stream",
     "text": [
      "Фраза 1 длинее Фразы 2\n"
     ]
    }
   ],
   "source": [
    "\"\"\"Задание 1\n",
    "Даны 2 переменных, в которых хранятся строки произвольной длины: phrase_1 и phrase_2.\n",
    "Напишите код, который проверяет какая из этих строк длиннее.\"\"\"\n",
    "\n",
    "phrase_1 = 'Насколько проще было бы писать программы, если бы не заказчики'\n",
    "phrase_2 = '640Кб должно хватить для любых задач. Билл Гейтс (по легенде)'\n",
    "\n",
    "if len (phrase_1) > len (phrase_2):\n",
    "    print ('Фраза 1 длинее Фразы 2')\n",
    "else:\n",
    "    print ('Фраза 2 длинее Фразы 1')"
   ]
  },
  {
   "cell_type": "code",
   "execution_count": 6,
   "metadata": {},
   "outputs": [
    {
     "name": "stdout",
     "output_type": "stream",
     "text": [
      "Фраза 2 длинее Фразы 1\n"
     ]
    }
   ],
   "source": [
    "phrase_1 = '640Кб должно хватить для любых задач. Билл Гейтс (по легенде)'\n",
    "phrase_2 = 'Насколько проще было бы писать программы, если бы не заказчики'\n",
    "\n",
    "if len (phrase_1) > len (phrase_2):\n",
    "    print ('Фраза 1 длинее Фразы 2')\n",
    "else:\n",
    "    print ('Фраза 2 длинее Фразы 1')"
   ]
  },
  {
   "cell_type": "code",
   "execution_count": 7,
   "metadata": {},
   "outputs": [
    {
     "name": "stdout",
     "output_type": "stream",
     "text": [
      "Фразы равной длины\n"
     ]
    }
   ],
   "source": [
    "phrase_1 = 'Насколько проще было бы писать программы, если бы не заказчики'\n",
    "phrase_2 = 'Насколько проще было бы писать программы, если бы не заказчики'\n",
    "\n",
    "if len (phrase_1) > len (phrase_2):\n",
    "    print ('Фраза 1 длинее Фразы 2')\n",
    "elif len (phrase_1) < len (phrase_2):\n",
    "    print ('Фраза 2 длинее Фразы 1')\n",
    "else:\n",
    "    print ('Фразы равной длины')"
   ]
  },
  {
   "cell_type": "code",
   "execution_count": 1,
   "metadata": {},
   "outputs": [
    {
     "name": "stdout",
     "output_type": "stream",
     "text": [
      "Введите год: 1198\n",
      "Год обычный\n"
     ]
    }
   ],
   "source": [
    "\"\"\"Задание 2\n",
    "Дана переменная, в которой хранится четырехзначное число (год). Необходимо написать программу, которая выведет, является ли данный год високосным или обычным.\"\"\"\n",
    "\n",
    "user_input = int(input('Введите год: '))\n",
    "if user_input % 4 == 0:\n",
    "    print ('Год високосный')\n",
    "elif user_input % 400 == 0:\n",
    "    print ('Год високосный')\n",
    "else:\n",
    "    print ('Год обычный')"
   ]
  },
  {
   "cell_type": "code",
   "execution_count": 27,
   "metadata": {},
   "outputs": [
    {
     "name": "stdout",
     "output_type": "stream",
     "text": [
      "Введите день: 27\n",
      "Введите месяц: Октябрь\n",
      "Скорпион\n"
     ]
    }
   ],
   "source": [
    "\"\"\"Задание 3\n",
    "Необходимо написать программу, которая будет запрашивать у пользователя месяц и дату рождения и выводить соответствующий знак зодиака.\"\"\"\n",
    "\n",
    "d, m = [int(input('Введите день: ')),str(input('Введите месяц: '))]\n",
    "months = ['Январь','Февраль', 'Март', 'Апрель', 'Май', 'Июнь', 'Июль', 'Август', 'Сентябрь', 'Октябрь', 'Ноябрь', 'Декабрь']\n",
    "if m in months[11] and (22 <= d <= 31) or m in months[0] and (1 <= d <= 19):\n",
    "    print('Козерог')\n",
    "elif m in months[0] and (20 <= d <= 31) or m in months[1] and (1 <= d <= 18):\n",
    "    print('Водолей')\n",
    "elif m in months[1] and (19 <= d <= 29) or m in months[2] and (1 <= d <= 20):\n",
    "    print('Рыбы')\n",
    "elif m in months[2] and (21 <= d <= 31) or m in months[3] and (1 <= d <= 20):\n",
    "    print('Овен')\n",
    "elif m in months[3] and (21 <= d <= 30) or m in months[4] and (1 <= d <= 20):\n",
    "    print('Телец')\n",
    "elif m in months[4] and (21 <= d <= 31) or m in months[5] and (1 <= d <= 20):\n",
    "    print('Близнецы')\n",
    "elif m in months[5] and (21 <= d <= 30) or m in months[6] and (1 <= d <= 22):\n",
    "    print('Рак')\n",
    "elif m in months[6] and (23 <= d <= 31) or m in months[7] and (1 <= d <= 22):\n",
    "    print('Лев')\n",
    "elif m in months[7] and (23 <= d <= 31) or m in months[8] and (1 <= d <= 23):\n",
    "    print('Дева')\n",
    "elif m in months[8] and (24 <= d <= 30) or m in months[9] and (1 <= d <= 23):\n",
    "    print('Весы')\n",
    "elif m in months[9] and (24 <= d <= 31) or m in months[10] and (1 <= d <= 21):\n",
    "    print('Скорпион')\n",
    "elif m in months[10] and (22 <= d <= 30) or m in months[11] and (1 <= d <= 21):\n",
    "    print('Стрелец')\n",
    "else:\n",
    "    print('Некорректный ввод данных')\n"
   ]
  },
  {
   "cell_type": "code",
   "execution_count": 37,
   "metadata": {},
   "outputs": [
    {
     "name": "stdout",
     "output_type": "stream",
     "text": [
      "Стандартная коробка №3\n"
     ]
    }
   ],
   "source": [
    "\"\"\"Задание 4\n",
    "Вам нужно написать программу для подбора упаковок по размерам товара. Размеры хранятся в переменных (в сантиметрах)\"\"\"\n",
    "\n",
    "width = 14\n",
    "length = 13\n",
    "height = 120\n",
    "\n",
    "if (width < 15) and (length < 15) and (height < 15):\n",
    "    print('Коробка №1')\n",
    "elif (15 < width < 50) or (15 < length < 50) or (15 < height < 50):\n",
    "    print('Коробка №2') \n",
    "elif length > 200:\n",
    "    print('Упаковка для лыж')\n",
    "else:\n",
    "    print('Стандартная коробка №3')\n",
    "\n"
   ]
  }
 ],
 "metadata": {
  "kernelspec": {
   "display_name": "Python 3",
   "language": "python",
   "name": "python3"
  },
  "language_info": {
   "codemirror_mode": {
    "name": "ipython",
    "version": 3
   },
   "file_extension": ".py",
   "mimetype": "text/x-python",
   "name": "python",
   "nbconvert_exporter": "python",
   "pygments_lexer": "ipython3",
   "version": "3.8.3"
  }
 },
 "nbformat": 4,
 "nbformat_minor": 4
}
