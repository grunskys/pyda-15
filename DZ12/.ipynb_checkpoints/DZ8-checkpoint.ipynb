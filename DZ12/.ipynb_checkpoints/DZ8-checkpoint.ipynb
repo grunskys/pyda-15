{
 "cells": [
  {
   "cell_type": "code",
   "execution_count": 228,
   "metadata": {},
   "outputs": [
    {
     "name": "stdout",
     "output_type": "stream",
     "text": [
      "Результат: Номер 409 валиден. Регион: 152\n"
     ]
    }
   ],
   "source": [
    "# Задание 1. Напишите функцию, которая принимает на вход строку и проверяет является ли она валидным транспортным номером (1 буква, 3 цифры, 2 буквы, 2-3 цифры)\n",
    "\n",
    "import re\n",
    "\n",
    "car_id = 'А409СК152'\n",
    "regex_car_id = r'(^[АВЕКМНОРСТУХ]{1})(\\d{3})([АВЕКМНОРСТУХ]{2})(\\d{2,3}$)'\n",
    "car_id_ = re.search(regex_car_id, car_id)\n",
    "if car_id_:\n",
    "    print(f'Результат: Номер {car_id_.group(2)} валиден. Регион: {car_id_.group(4)}')\n",
    "else:\n",
    "    print('Номер не валиден')"
   ]
  },
  {
   "cell_type": "code",
   "execution_count": 119,
   "metadata": {},
   "outputs": [
    {
     "data": {
      "text/plain": [
       "'Напишите функцию, которая будет удалять все последовательные повторы слов из заданной строки при помощи регулярных выражений.'"
      ]
     },
     "execution_count": 119,
     "metadata": {},
     "output_type": "execute_result"
    }
   ],
   "source": [
    "#Задание 2. Напишите функцию, которая будет удалять все последовательные повторы слов из заданной строки при помощи регулярных выражений.\n",
    "\n",
    "some_string = 'Напишите функцию Функцию, которая которая будет будет Будет будет удалять удалять все все все все последовательные повторы слов из из из из заданной строки строки при помощи регулярных выражений.'\n",
    "re.sub(r'\\b(\\w+)(\\s+\\1)+\\b', r'\\1', some_string, flags=re.I)"
   ]
  },
  {
   "cell_type": "code",
   "execution_count": 230,
   "metadata": {},
   "outputs": [
    {
     "name": "stdout",
     "output_type": "stream",
     "text": [
      "НЛП\n"
     ]
    }
   ],
   "source": [
    " #Задание 3. Напишите функцию, которая будет возвращать акроним по переданной в нее строке со словами.\n",
    "some_words = 'Нейро Лингвистическое Программирование'\n",
    "acronym = re.findall(r'\\b\\w', some_words)\n",
    "print(''.join(acronym).upper())"
   ]
  },
  {
   "cell_type": "code",
   "execution_count": 1,
   "metadata": {},
   "outputs": [
    {
     "name": "stdout",
     "output_type": "stream",
     "text": [
      "(N) (F) (C)\n"
     ]
    }
   ],
   "source": [
    "import re\n",
    "some_words = 'Near Field Communication' \n",
    "def acronimus():\n",
    "    acronim = re.sub(r'(\\w)(\\w+)', r'(\\1)', some_words)\n",
    "    print(''.join(acronim).upper())\n",
    "acronimus()"
   ]
  },
  {
   "cell_type": "code",
   "execution_count": 257,
   "metadata": {},
   "outputs": [
    {
     "name": "stdout",
     "output_type": "stream",
     "text": [
      "@gmail.com: 2\n",
      "@test.in: 1\n",
      "@ya.ru: 2\n",
      "@mail.ru: 1\n"
     ]
    }
   ],
   "source": [
    "#Задание 4. Напишите функцию, которая будет принимать на вход список email-адресов и выводить их распределение по доменным зонам.\n",
    "\n",
    "emails = ['test@gmail.com', 'xyz@test.in', 'test@ya.ru', 'xyz@mail.ru', 'xyz@ya.ru', 'xyz@gmail.com']\n",
    "domains = str(emails).strip(']''[')\n",
    "domains_list = re.findall(r'@\\w+.\\w+', domains)\n",
    "\n",
    "domains_dict = {}\n",
    "for domain in domains_list:\n",
    "        a = domains_list.count(domain)\n",
    "        domains_dict[domain] = a\n",
    "for key, value in domains_dict.items():\n",
    "    print(f'{key}: {value}')"
   ]
  }
 ],
 "metadata": {
  "kernelspec": {
   "display_name": "Python 3",
   "language": "python",
   "name": "python3"
  },
  "language_info": {
   "codemirror_mode": {
    "name": "ipython",
    "version": 3
   },
   "file_extension": ".py",
   "mimetype": "text/x-python",
   "name": "python",
   "nbconvert_exporter": "python",
   "pygments_lexer": "ipython3",
   "version": "3.8.3"
  }
 },
 "nbformat": 4,
 "nbformat_minor": 4
}
