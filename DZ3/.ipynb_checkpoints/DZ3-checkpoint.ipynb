{
 "cells": [
  {
   "cell_type": "code",
   "execution_count": 6,
   "metadata": {},
   "outputs": [
    {
     "name": "stdout",
     "output_type": "stream",
     "text": [
      "{98, 35, 213, 54, 119, 15}\n"
     ]
    }
   ],
   "source": [
    "#Задача 1\n",
    "\"\"\"Дана переменная, в которой хранится словарь, содержащий гео-метки для каждого пользователя (пример структуры данных приведен ниже). Вам необходимо написать программу, которая выведет на экран множество уникальных гео-меток всех пользователей.\"\"\"\n",
    "\n",
    "ids = {'user1': [213, 213, 213, 15, 213], \n",
    "       'user2': [54, 54, 119, 119, 119], \n",
    "       'user3': [213, 98, 98, 35]}\n",
    "\n",
    "user1 = set(ids['user1'])\n",
    "user2 = set(ids['user2'])\n",
    "user3 = set(ids['user3'])\n",
    "print(user1 | user2 | user3)"
   ]
  },
  {
   "cell_type": "code",
   "execution_count": 58,
   "metadata": {},
   "outputs": [
    {
     "name": "stdout",
     "output_type": "stream",
     "text": [
      "Поисковых запросов, содержащих 3, слов(а):57.14%\n",
      "Поисковых запросов, содержащих 2, слов(а):42.86%\n",
      "[3, 2, 2, 2, 3, 3, 3]\n",
      "{3: 4, 2: 3}\n"
     ]
    }
   ],
   "source": [
    "#Задача 2\n",
    "\"\"\"Дана переменная, в которой хранится список поисковых запросов пользователя (пример структуры данных приведен ниже). Вам необходимо написать программу, которая выведет на экран распределение количества слов в запросах в требуемом виде.\"\"\"\n",
    "\n",
    "queries = [\n",
    "    'смотреть сериалы онлайн',\n",
    "    'новости спорта',\n",
    "    'афиша кино',\n",
    "    'курс доллара',\n",
    "    'сериалы этим летом',\n",
    "    'курс по питону',\n",
    "    'сериалы про спорт',\n",
    "]\n",
    "\n",
    "i = 0\n",
    "word_list = []\n",
    "numbers = {}\n",
    "\n",
    "for word in queries:\n",
    "    word = len(queries[i].split(' '))\n",
    "    word_list.append(word)\n",
    "    for num in word_list:\n",
    "        b = word_list.count(num)\n",
    "        numbers[num] = b\n",
    "    i+=1\n",
    "for key, value in numbers.items():\n",
    "    x = round(value *100 / sum(list(numbers.values())), 2)\n",
    "    print(f'Поисковых запросов, содержащих {key}, слов(а):{x}%')\n",
    "print(word_list)\n",
    "print(numbers)"
   ]
  },
  {
   "cell_type": "code",
   "execution_count": 69,
   "metadata": {},
   "outputs": [
    {
     "name": "stdout",
     "output_type": "stream",
     "text": [
      "{'vk': {'revenue': 103, 'cost': 98, 'ROI': 5.1}, 'yandex': {'revenue': 179, 'cost': 153, 'ROI': 16.99}, 'facebook': {'revenue': 103, 'cost': 110, 'ROI': -6.36}, 'adwords': {'revenue': 35, 'cost': 34, 'ROI': 2.94}, 'twitter': {'revenue': 11, 'cost': 24, 'ROI': -54.17}}\n"
     ]
    }
   ],
   "source": [
    "#Задача 3\n",
    "\"\"\"Дана переменная, в которой хранится информация о затратах и доходе рекламных кампаний по различным источникам. Необходимо дополнить исходную структуру показателем ROI, который рассчитаем по формуле: (revenue / cost - 1) * 100\"\"\"\n",
    "\n",
    "results = {\n",
    "    'vk': {'revenue': 103, 'cost': 98},\n",
    "    'yandex': {'revenue': 179, 'cost': 153},\n",
    "    'facebook': {'revenue': 103, 'cost': 110},\n",
    "    'adwords': {'revenue': 35, 'cost': 34},\n",
    "    'twitter': {'revenue': 11, 'cost': 24},\n",
    "}\n",
    "\n",
    "for key, value in results.items():\n",
    "    ROI = round(((value['revenue'] / (value['cost']) - 1) * 100), 2)\n",
    "    value['ROI'] = ROI\n",
    "print(results)"
   ]
  },
  {
   "cell_type": "code",
   "execution_count": 107,
   "metadata": {},
   "outputs": [
    {
     "name": "stdout",
     "output_type": "stream",
     "text": [
      "Максимальный объем продаж на рекламном канале: vk\n"
     ]
    }
   ],
   "source": [
    "#Задача 4\n",
    "\"\"\"\n",
    "Дана переменная, в которой хранится статистика рекламных каналов по объемам продаж (пример структуры данных приведен ниже). Напишите программу, которая возвращает название канала с максимальным объемом продаж.\"\"\"\n",
    "\n",
    "stats = {'facebook': 55, 'yandex': 115, 'vk': 120, 'google': 99, 'email': 42, 'ok': 98}\n",
    "value_list = []\n",
    "key_list = []\n",
    "for key, value in stats.items():\n",
    "    key_list.append(key)\n",
    "    value_list.append(value)   \n",
    "m = max(value_list)\n",
    "key_index = value_list.index(m)\n",
    "print(f'Максимальный объем продаж на рекламном канале: {key_list[key_index]}')"
   ]
  }
 ],
 "metadata": {
  "kernelspec": {
   "display_name": "Python 3",
   "language": "python",
   "name": "python3"
  },
  "language_info": {
   "codemirror_mode": {
    "name": "ipython",
    "version": 3
   },
   "file_extension": ".py",
   "mimetype": "text/x-python",
   "name": "python",
   "nbconvert_exporter": "python",
   "pygments_lexer": "ipython3",
   "version": "3.8.3"
  }
 },
 "nbformat": 4,
 "nbformat_minor": 4
}
