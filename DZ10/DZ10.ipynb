{
 "cells": [
  {
   "cell_type": "code",
   "execution_count": 11,
   "metadata": {},
   "outputs": [
    {
     "data": {
      "text/html": [
       "<div>\n",
       "<style scoped>\n",
       "    .dataframe tbody tr th:only-of-type {\n",
       "        vertical-align: middle;\n",
       "    }\n",
       "\n",
       "    .dataframe tbody tr th {\n",
       "        vertical-align: top;\n",
       "    }\n",
       "\n",
       "    .dataframe thead th {\n",
       "        text-align: right;\n",
       "    }\n",
       "</style>\n",
       "<table border=\"1\" class=\"dataframe\">\n",
       "  <thead>\n",
       "    <tr style=\"text-align: right;\">\n",
       "      <th></th>\n",
       "      <th>movieId</th>\n",
       "      <th>0</th>\n",
       "      <th>title</th>\n",
       "      <th>genres</th>\n",
       "    </tr>\n",
       "  </thead>\n",
       "  <tbody>\n",
       "    <tr>\n",
       "      <th>0</th>\n",
       "      <td>318</td>\n",
       "      <td>153</td>\n",
       "      <td>Shawshank Redemption, The (1994)</td>\n",
       "      <td>Crime|Drama</td>\n",
       "    </tr>\n",
       "  </tbody>\n",
       "</table>\n",
       "</div>"
      ],
      "text/plain": [
       "   movieId    0                             title       genres\n",
       "0      318  153  Shawshank Redemption, The (1994)  Crime|Drama"
      ]
     },
     "execution_count": 11,
     "metadata": {},
     "output_type": "execute_result"
    }
   ],
   "source": [
    "# Задание 1. Скачайте с сайта https://grouplens.org/datasets/movielens/ датасет любого размера. Определите какому фильму было выставлено больше всего оценок 5.0.\n",
    "\n",
    "import pandas as pd\n",
    "\n",
    "# взят датасет ml-latest-small \n",
    " \n",
    "rating = pd.read_csv('ratings.csv')\n",
    "movie = pd.read_csv('movies.csv')\n",
    "\n",
    "\n",
    "data = rating[rating['rating'] == 5.0].groupby(['movieId']).size().sort_values(ascending=False).head(1)# получаем объект типа series\n",
    "df = pd.DataFrame(data) # приводим этот объект к типу DF, чтобы применить merge\n",
    "\n",
    "df.merge(movie, on='movieId', how='left') #получается кривенько, но результат есть"
   ]
  },
  {
   "cell_type": "code",
   "execution_count": 20,
   "metadata": {
    "scrolled": true
   },
   "outputs": [
    {
     "data": {
      "text/plain": [
       "240580.0"
      ]
     },
     "execution_count": 20,
     "metadata": {},
     "output_type": "execute_result"
    }
   ],
   "source": [
    "# Задание 2. По данным файла power.csv посчитайте суммарное потребление стран Прибалтики (Латвия, Литва и Эстония) категорий 4, 12 и 21 за период с 2005 по 2010 года. Не учитывайте в расчетах отрицательные значения quantity.\n",
    "\n",
    "power_cunsumption = pd.read_csv('power.csv')\n",
    "consumption_filtered = power_cunsumption[((power_cunsumption['category'] == 4)|(power_cunsumption['category'] == 12)|(power_cunsumption['category'] == 21))&\n",
    "                  ((power_cunsumption['country']=='Latvia')|(power_cunsumption['country']=='Lithuania')|(power_cunsumption['country']=='Estonia'))&\n",
    "                 ((power_cunsumption['year']==2005)|(power_cunsumption['year']==2006)|(power_cunsumption['year']==2007)|(power_cunsumption['year']==2008)|(power_cunsumption['year']==2009)|(power_cunsumption['year']==2010))&\n",
    "                  (power_cunsumption['quantity'] > 0)] #создаем таблицу, отфильтрованную по группе условий\n",
    "\n",
    "consumption_filtered['quantity'].sum() #считаем сумму значений столбца \"количество\"\n"
   ]
  },
  {
   "cell_type": "code",
   "execution_count": 64,
   "metadata": {},
   "outputs": [
    {
     "data": {
      "text/html": [
       "<div>\n",
       "<style scoped>\n",
       "    .dataframe tbody tr th:only-of-type {\n",
       "        vertical-align: middle;\n",
       "    }\n",
       "\n",
       "    .dataframe tbody tr th {\n",
       "        vertical-align: top;\n",
       "    }\n",
       "\n",
       "    .dataframe thead th {\n",
       "        text-align: right;\n",
       "    }\n",
       "</style>\n",
       "<table border=\"1\" class=\"dataframe\">\n",
       "  <thead>\n",
       "    <tr style=\"text-align: right;\">\n",
       "      <th></th>\n",
       "      <th>Country</th>\n",
       "      <th>Confirmed</th>\n",
       "      <th>Deaths</th>\n",
       "      <th>Case-Fatality</th>\n",
       "      <th>Deaths/100K pop.</th>\n",
       "    </tr>\n",
       "  </thead>\n",
       "  <tbody>\n",
       "    <tr>\n",
       "      <th>0</th>\n",
       "      <td>Belgium</td>\n",
       "      <td>550264</td>\n",
       "      <td>15196</td>\n",
       "      <td>2.8%</td>\n",
       "      <td>133.04</td>\n",
       "    </tr>\n",
       "    <tr>\n",
       "      <th>1</th>\n",
       "      <td>San Marino</td>\n",
       "      <td>1358</td>\n",
       "      <td>43</td>\n",
       "      <td>3.2%</td>\n",
       "      <td>127.28</td>\n",
       "    </tr>\n",
       "    <tr>\n",
       "      <th>2</th>\n",
       "      <td>Peru</td>\n",
       "      <td>939931</td>\n",
       "      <td>35317</td>\n",
       "      <td>3.8%</td>\n",
       "      <td>110.40</td>\n",
       "    </tr>\n",
       "    <tr>\n",
       "      <th>3</th>\n",
       "      <td>Andorra</td>\n",
       "      <td>6066</td>\n",
       "      <td>76</td>\n",
       "      <td>1.3%</td>\n",
       "      <td>98.69</td>\n",
       "    </tr>\n",
       "    <tr>\n",
       "      <th>4</th>\n",
       "      <td>Spain</td>\n",
       "      <td>1541574</td>\n",
       "      <td>42291</td>\n",
       "      <td>2.7%</td>\n",
       "      <td>90.51</td>\n",
       "    </tr>\n",
       "  </tbody>\n",
       "</table>\n",
       "</div>"
      ],
      "text/plain": [
       "      Country  Confirmed  Deaths Case-Fatality  Deaths/100K pop.\n",
       "0     Belgium     550264   15196          2.8%            133.04\n",
       "1  San Marino       1358      43          3.2%            127.28\n",
       "2        Peru     939931   35317          3.8%            110.40\n",
       "3     Andorra       6066      76          1.3%             98.69\n",
       "4       Spain    1541574   42291          2.7%             90.51"
      ]
     },
     "execution_count": 64,
     "metadata": {},
     "output_type": "execute_result"
    }
   ],
   "source": [
    "#Задание 3. Выберите страницу любого сайта с табличными данными. Импортируйте таблицы в pandas dataframe.\n",
    "\n",
    "df = pd.read_html('https://coronavirus.jhu.edu/data/mortality')[0] #находим список и преобразуем его нулевой элемент в dataframe \n",
    "df.head()"
   ]
  }
 ],
 "metadata": {
  "kernelspec": {
   "display_name": "Python 3",
   "language": "python",
   "name": "python3"
  },
  "language_info": {
   "codemirror_mode": {
    "name": "ipython",
    "version": 3
   },
   "file_extension": ".py",
   "mimetype": "text/x-python",
   "name": "python",
   "nbconvert_exporter": "python",
   "pygments_lexer": "ipython3",
   "version": "3.8.3"
  }
 },
 "nbformat": 4,
 "nbformat_minor": 4
}
