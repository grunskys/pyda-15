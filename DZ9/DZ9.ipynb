{
 "cells": [
  {
   "cell_type": "code",
   "execution_count": 23,
   "metadata": {},
   "outputs": [
    {
     "data": {
      "text/plain": [
       "array([9, 8, 7, 6, 5, 4, 3, 2, 1, 0])"
      ]
     },
     "execution_count": 23,
     "metadata": {},
     "output_type": "execute_result"
    }
   ],
   "source": [
    "#Задание 1. Создайте numpy array с элементами от числа N до 0 (например, для N = 10 это будет array([9, 8, 7, 6, 5, 4, 3, 2, 1, 0]))\n",
    "\n",
    "import numpy as np\n",
    "\n",
    "N = 10\n",
    "array_desc = np.sort(np.arange(0, N))[::-1]\n",
    "\n",
    "array_desc"
   ]
  },
  {
   "cell_type": "code",
   "execution_count": 62,
   "metadata": {},
   "outputs": [
    {
     "name": "stdout",
     "output_type": "stream",
     "text": [
      "[[12  0  0  0  0]\n",
      " [ 0  9  0  0  0]\n",
      " [ 0  0  6  0  0]\n",
      " [ 0  0  0  3  0]\n",
      " [ 0  0  0  0  0]]\n",
      "30\n"
     ]
    }
   ],
   "source": [
    "#Задание 2. Создайте диагональную матрицу с элементами от N до 0. Посчитайте сумму ее значений на диагонали.\n",
    "\n",
    "N = 13\n",
    "matrix = np.diag(np.sort(np.arange(0, N, 3))[::-1], k=0)\n",
    "print(matrix)\n",
    "sum_diag = sum(list(sum(matrix)))\n",
    "print(sum_diag)"
   ]
  },
  {
   "cell_type": "code",
   "execution_count": 66,
   "metadata": {},
   "outputs": [
    {
     "data": {
      "text/plain": [
       "True"
      ]
     },
     "execution_count": 66,
     "metadata": {},
     "output_type": "execute_result"
    }
   ],
   "source": [
    "# Задание 3. Решите систему уравнений\n",
    "\n",
    "#4x + 2y + z = 4\n",
    "#x + 3y = 12\n",
    "#5y + 4z = -3\n",
    "\n",
    "from numpy import linalg\n",
    "\n",
    "# коэффициенты при переменных в левой части уравнения\n",
    "\n",
    "a = np.array( [ [4, 2, 1], [1, 3, 0], [0, 5, 4] ] )\n",
    "\n",
    "# значения в правой части уравнения\n",
    "\n",
    "b = np.array( [4, 12, -3] )\n",
    "\n",
    "# решение\n",
    "\n",
    "from numpy import linalg\n",
    "\n",
    "linalg.solve(a, b)\n",
    "\n",
    "# проверка верности\n",
    "\n",
    "np.allclose( np.dot(a, linalg.solve(a, b)), b )"
   ]
  }
 ],
 "metadata": {
  "kernelspec": {
   "display_name": "Python 3",
   "language": "python",
   "name": "python3"
  },
  "language_info": {
   "codemirror_mode": {
    "name": "ipython",
    "version": 3
   },
   "file_extension": ".py",
   "mimetype": "text/x-python",
   "name": "python",
   "nbconvert_exporter": "python",
   "pygments_lexer": "ipython3",
   "version": "3.8.3"
  }
 },
 "nbformat": 4,
 "nbformat_minor": 4
}
