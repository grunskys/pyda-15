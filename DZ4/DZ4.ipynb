{
 "cells": [
  {
   "cell_type": "code",
   "execution_count": 1,
   "metadata": {},
   "outputs": [],
   "source": [
    "#Задание 1\n",
    "\n",
    "documents = [\n",
    " {'type': 'passport', 'number': '2207 876234', 'name': 'Василий Гупкин'},\n",
    " {'type': 'invoice', 'number': '11-2', 'name': 'Геннадий Покемонов'},\n",
    " {'type': 'insurance', 'number': '10006', 'name': 'Аристарх Павлов'}\n",
    "]\n",
    "\n",
    "\n",
    "directories = {\n",
    " '1': ['2207 876234', '11-2'],\n",
    " '2': ['10006'],\n",
    " '3': []\n",
    "}"
   ]
  },
  {
   "cell_type": "code",
   "execution_count": 2,
   "metadata": {},
   "outputs": [],
   "source": [
    "#Пункт 1. Пользователь по команде \"p\" может узнать владельца документа по его номеру\n",
    "\n",
    "def get_owner_name(docs):\n",
    "    number = str(input('Введите номер документа: '))\n",
    "    for el in docs:\n",
    "        line =  dict(el)\n",
    "        if number == line['number']:\n",
    "            return print(f\"Владелец документа: {line['name']}\")\n",
    "        else:\n",
    "            pass\n",
    "    return print('Документ не найден в базе')"
   ]
  },
  {
   "cell_type": "code",
   "execution_count": 3,
   "metadata": {},
   "outputs": [],
   "source": [
    "#Пункт 2. Пользователь по команде \"s\" может по номеру документа узнать на какой полке он хранится\n",
    "\n",
    "def get_shelf_number(directory):\n",
    "    doc_number = input('Введите номер документа: ')\n",
    "    for shelf, number in directory.items():\n",
    "        if doc_number in number:\n",
    "            return print(f\"Документ хранится на полке: {shelf}\")\n",
    "        else:\n",
    "            pass\n",
    "    return print('Документ не найден в базе')"
   ]
  },
  {
   "cell_type": "code",
   "execution_count": 4,
   "metadata": {},
   "outputs": [],
   "source": [
    "#Пункт 3. Пользователь по команде \"l\" может увидеть полную информацию по всем документам\n",
    "\n",
    "def get_documents_info(docs):\n",
    "    for el in docs:\n",
    "        line =  dict(el)\n",
    "        for shelf, number in directories.items():\n",
    "            if line['number'] in number:\n",
    "                print(f\"№: {line['number']}, тип: {line['type']}, владелец: {line['name']}, полка хранения: {shelf}\")\n",
    "    return"
   ]
  },
  {
   "cell_type": "code",
   "execution_count": 5,
   "metadata": {},
   "outputs": [],
   "source": [
    "#Пункт 4. Пользователь по команде \"ads\" может добавить новую полку\n",
    "\n",
    "\n",
    "# проверка на не вхождение\n",
    "#добавление ключа с пустым значением\n",
    "\n",
    "def add_shelf(directory):\n",
    "    shelf = input('Введите номер полки: ')\n",
    "    a = list(directory.keys())\n",
    "    if shelf in directory.keys():\n",
    "        print(f\"Такая полка уже существует. Текущий перечень полок: {', '.join(sorted(a))}\")\n",
    "    else:\n",
    "        directory[shelf] = []\n",
    "        a = list(directory.keys())\n",
    "        print(f\"Полка добавлена. Текущий перечень полок: {', '.join(sorted(a))}\")\n",
    "    return"
   ]
  },
  {
   "cell_type": "code",
   "execution_count": 6,
   "metadata": {},
   "outputs": [],
   "source": [
    "#Пункт 5. Пользователь по команде \"ds\" может удалить существующую полку из данных (только если она пустая)\n",
    "\n",
    "def delete_shelf(directory):\n",
    "    shelf = input('Введите номер полки: ')\n",
    "    a = list(directory.keys())\n",
    "    if shelf in directory.keys() and directory[shelf] == []:\n",
    "        del(directory[shelf])\n",
    "        a = list(directory.keys())\n",
    "        print(f\"Полка удалена. Текущий перечень полок: {', '.join(sorted(a))}\")\n",
    "    elif shelf in directory.keys():\n",
    "         print(f\"На полке есть документы, удалите их перед удалением полки. Текущий перечень полок: {', '.join(sorted(a))}\")\n",
    "    elif shelf not in directory.keys():\n",
    "         print(f\"Такой полки не существует. Текущий перечень полок: {', '.join(sorted(a))}\")\n",
    "    return"
   ]
  },
  {
   "cell_type": "code",
   "execution_count": 19,
   "metadata": {},
   "outputs": [
    {
     "name": "stdout",
     "output_type": "stream",
     "text": [
      "Введите команду: 1\n",
      "Неверная команда. Введите одно из значений: p, s, l, ads, ds, q\n",
      "Введите команду: 2\n",
      "Неверная команда. Введите одно из значений: p, s, l, ads, ds, q\n",
      "Введите команду: 3\n",
      "Неверная команда. Введите одно из значений: p, s, l, ads, ds, q\n",
      "Введите команду: l\n",
      "Посмотреть полную информацию по всем документам.\n",
      "№: 2207 876234, тип: passport, владелец: Василий Гупкин, полка хранения: 1\n",
      "№: 11-2, тип: invoice, владелец: Геннадий Покемонов, полка хранения: 1\n",
      "№: 10006, тип: insurance, владелец: Аристарх Павлов, полка хранения: 2\n",
      "None\n",
      "Введите команду: q\n",
      "Конец работы алгоритма\n"
     ]
    }
   ],
   "source": [
    "def main(docs, directory):\n",
    "    while True:\n",
    "        user_input = input('Введите команду: ')\n",
    "        if user_input.lower() == 'p':\n",
    "            print('Найти владельца по номеру документа.')\n",
    "            print(get_owner_name(docs))\n",
    "        elif user_input.lower() == 's':\n",
    "            print('Найти номер полки хранения по номеру документа.')\n",
    "            print(get_shelf_number(directory))\n",
    "        elif user_input.lower() == 'l':\n",
    "            print('Посмотреть полную информацию по всем документам.')\n",
    "            print(get_documents_info(docs))\n",
    "        elif user_input.lower() == 'ads':\n",
    "            print('Добавить новую полку с пустым значением.')\n",
    "            print(add_shelf(directory))\n",
    "        elif user_input.lower() == 'ds':\n",
    "            print('Удалить существующую полку (если пустая).')\n",
    "            print(delete_shelf(directory))\n",
    "        elif user_input.lower() == 'q':\n",
    "            print('Конец работы алгоритма')\n",
    "            break\n",
    "        else:\n",
    "            print('Неверная команда. Введите одно из значений: p, s, l, ads, ds, q')\n",
    "\n",
    "\n",
    "main(documents, directories)"
   ]
  }
 ],
 "metadata": {
  "kernelspec": {
   "display_name": "Python 3",
   "language": "python",
   "name": "python3"
  },
  "language_info": {
   "codemirror_mode": {
    "name": "ipython",
    "version": 3
   },
   "file_extension": ".py",
   "mimetype": "text/x-python",
   "name": "python",
   "nbconvert_exporter": "python",
   "pygments_lexer": "ipython3",
   "version": "3.8.3"
  }
 },
 "nbformat": 4,
 "nbformat_minor": 4
}
