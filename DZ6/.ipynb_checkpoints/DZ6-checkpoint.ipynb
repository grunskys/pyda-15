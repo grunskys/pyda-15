{
 "cells": [
  {
   "cell_type": "code",
   "execution_count": 26,
   "metadata": {},
   "outputs": [
    {
     "data": {
      "text/plain": [
       "datetime.datetime(1977, 8, 18, 0, 0)"
      ]
     },
     "execution_count": 26,
     "metadata": {},
     "output_type": "execute_result"
    }
   ],
   "source": [
    "# Задание 1. Печатные газеты использовали свой формат дат для каждого выпуска. Для каждой газеты из списка напишите формат указанной даты для перевода в объект datetime:\n",
    "\n",
    "from datetime import datetime\n",
    "\n",
    "Moscow_Times_date = 'Wednesday, October 2, 2002'\n",
    "Guardian_date = 'Friday, 11.10.13'\n",
    "Daily_News_date = 'Thursday, 18 August 1977'\n",
    "\n",
    "Moscow_Times_date_ = datetime.strptime(Moscow_Times_date, '%A, %B %d, %Y')\n",
    "Guardian_date_ = datetime.strptime(Guardian_date, '%A, %d.%m.%y')\n",
    "Daily_News_date_ = datetime.strptime(Daily_News_date, '%A, %d %B %Y')\n"
   ]
  },
  {
   "cell_type": "code",
   "execution_count": 82,
   "metadata": {},
   "outputs": [
    {
     "name": "stdout",
     "output_type": "stream",
     "text": [
      "Дата 2018-04-02: True\n",
      "Дата 2018-02-29: False\n",
      "Дата 2018-19-02: False\n"
     ]
    }
   ],
   "source": [
    "# Задание 2. Дан поток дат в формате YYYY-MM-DD, в которых встречаются некорректные значения. Напишите функцию, которая проверяет эти даты на корректность. Т. е. для каждой даты возвращает True (дата корректна) или False (некорректная дата).\n",
    "\n",
    "from datetime import datetime\n",
    "\n",
    "stream = ['2018-04-02', '2018-02-29', '2018-19-02']\n",
    "  \n",
    "def date_check(list):\n",
    "    for date in list:\n",
    "        try:\n",
    "            date_ = datetime.strptime(date,'%Y-%m-%d')\n",
    "            print(f'Дата {date}: True')\n",
    "        except:\n",
    "            print(f'Дата {date}: False')          \n",
    "            \n",
    "date_check(stream)"
   ]
  },
  {
   "cell_type": "code",
   "execution_count": 113,
   "metadata": {},
   "outputs": [
    {
     "name": "stdout",
     "output_type": "stream",
     "text": [
      "Список дат за период с 2020-10-01 по 2020-10-05 = ['2020-10-01', '2020-10-02', '2020-10-03', '2020-10-04', '2020-10-05']\n"
     ]
    }
   ],
   "source": [
    "# Задание 3. Напишите функцию date_range, которая возвращает список дат за период от start_date до end_date.\n",
    "# Даты должны вводиться в формате YYYY-MM-DD. В случае неверного формата или при start_date > end_date должен возвращаться пустой список.\n",
    "\n",
    "from datetime import datetime\n",
    "from datetime import timedelta\n",
    "\n",
    "start_date = '2020-10-01'\n",
    "end_date = '2020-10-05'\n",
    "\n",
    "def date_range(start, end):\n",
    "    datelist = []\n",
    "    try:\n",
    "        if start > end:\n",
    "            print(f'Список дат за период с {start} по {end} = {datelist}')\n",
    "        else:\n",
    "            start_dt = datetime.strptime(start,'%Y-%m-%d')\n",
    "            end_dt = datetime.strptime(end,'%Y-%m-%d')\n",
    "            while start_dt <= end_dt:\n",
    "                datelist.append(start_dt.strftime('%Y-%m-%d'))\n",
    "                start_dt += timedelta(days=1)\n",
    "            print(f'Список дат за период с {start} по {end} = {datelist}')\n",
    "            \n",
    "    except:\n",
    "        print(f'Список дат за период с {start} по {end} = {datelist}')\n",
    "        \n",
    "    \n",
    "date_range(start_date, end_date)"
   ]
  }
 ],
 "metadata": {
  "kernelspec": {
   "display_name": "Python 3",
   "language": "python",
   "name": "python3"
  },
  "language_info": {
   "codemirror_mode": {
    "name": "ipython",
    "version": 3
   },
   "file_extension": ".py",
   "mimetype": "text/x-python",
   "name": "python",
   "nbconvert_exporter": "python",
   "pygments_lexer": "ipython3",
   "version": "3.8.3"
  }
 },
 "nbformat": 4,
 "nbformat_minor": 4
}
